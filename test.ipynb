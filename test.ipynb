{
   "cells": [
      {
         "cell_type": "code",
         "execution_count": 6,
         "metadata": {},
         "outputs": [],
         "source": [
            "import pandas as pd"
         ]
      },
      {
         "cell_type": "code",
         "execution_count": 7,
         "metadata": {},
         "outputs": [
            {
               "name": "stdout",
               "output_type": "stream",
               "text": [
                  "<class 'pandas.core.frame.DataFrame'>\n",
                  "RangeIndex: 128 entries, 0 to 127\n",
                  "Data columns (total 10 columns):\n",
                  " #   Column  Non-Null Count  Dtype \n",
                  "---  ------  --------------  ----- \n",
                  " 0   LatD    128 non-null    int64 \n",
                  " 1   LatM    128 non-null    int64 \n",
                  " 2   LatS    128 non-null    int64 \n",
                  " 3   NS      128 non-null    object\n",
                  " 4   LonD    128 non-null    int64 \n",
                  " 5   LonM    128 non-null    int64 \n",
                  " 6   LonS    128 non-null    int64 \n",
                  " 7   EW      128 non-null    object\n",
                  " 8   City    128 non-null    object\n",
                  " 9   State   128 non-null    object\n",
                  "dtypes: int64(6), object(4)\n",
                  "memory usage: 10.1+ KB\n"
               ]
            },
            {
               "data": {
                  "text/plain": [
                     "None"
                  ]
               },
               "metadata": {},
               "output_type": "display_data"
            },
            {
               "data": {
                  "text/html": [
                     "<div>\n",
                     "<style scoped>\n",
                     "    .dataframe tbody tr th:only-of-type {\n",
                     "        vertical-align: middle;\n",
                     "    }\n",
                     "\n",
                     "    .dataframe tbody tr th {\n",
                     "        vertical-align: top;\n",
                     "    }\n",
                     "\n",
                     "    .dataframe thead th {\n",
                     "        text-align: right;\n",
                     "    }\n",
                     "</style>\n",
                     "<table border=\"1\" class=\"dataframe\">\n",
                     "  <thead>\n",
                     "    <tr style=\"text-align: right;\">\n",
                     "      <th></th>\n",
                     "      <th>LatD</th>\n",
                     "      <th>LatM</th>\n",
                     "      <th>LatS</th>\n",
                     "      <th>NS</th>\n",
                     "      <th>LonD</th>\n",
                     "      <th>LonM</th>\n",
                     "      <th>LonS</th>\n",
                     "      <th>EW</th>\n",
                     "      <th>City</th>\n",
                     "      <th>State</th>\n",
                     "    </tr>\n",
                     "  </thead>\n",
                     "  <tbody>\n",
                     "    <tr>\n",
                     "      <th>44</th>\n",
                     "      <td>37</td>\n",
                     "      <td>10</td>\n",
                     "      <td>11</td>\n",
                     "      <td>N</td>\n",
                     "      <td>104</td>\n",
                     "      <td>30</td>\n",
                     "      <td>36</td>\n",
                     "      <td>W</td>\n",
                     "      <td>Trinidad</td>\n",
                     "      <td>CO</td>\n",
                     "    </tr>\n",
                     "    <tr>\n",
                     "      <th>33</th>\n",
                     "      <td>49</td>\n",
                     "      <td>16</td>\n",
                     "      <td>12</td>\n",
                     "      <td>N</td>\n",
                     "      <td>123</td>\n",
                     "      <td>7</td>\n",
                     "      <td>12</td>\n",
                     "      <td>W</td>\n",
                     "      <td>Vancouver</td>\n",
                     "      <td>BC</td>\n",
                     "    </tr>\n",
                     "    <tr>\n",
                     "      <th>82</th>\n",
                     "      <td>32</td>\n",
                     "      <td>4</td>\n",
                     "      <td>48</td>\n",
                     "      <td>N</td>\n",
                     "      <td>81</td>\n",
                     "      <td>5</td>\n",
                     "      <td>23</td>\n",
                     "      <td>W</td>\n",
                     "      <td>Savannah</td>\n",
                     "      <td>GA</td>\n",
                     "    </tr>\n",
                     "    <tr>\n",
                     "      <th>77</th>\n",
                     "      <td>38</td>\n",
                     "      <td>42</td>\n",
                     "      <td>35</td>\n",
                     "      <td>N</td>\n",
                     "      <td>93</td>\n",
                     "      <td>13</td>\n",
                     "      <td>48</td>\n",
                     "      <td>W</td>\n",
                     "      <td>Sedalia</td>\n",
                     "      <td>MO</td>\n",
                     "    </tr>\n",
                     "    <tr>\n",
                     "      <th>58</th>\n",
                     "      <td>40</td>\n",
                     "      <td>59</td>\n",
                     "      <td>24</td>\n",
                     "      <td>N</td>\n",
                     "      <td>75</td>\n",
                     "      <td>11</td>\n",
                     "      <td>24</td>\n",
                     "      <td>W</td>\n",
                     "      <td>Stroudsburg</td>\n",
                     "      <td>PA</td>\n",
                     "    </tr>\n",
                     "  </tbody>\n",
                     "</table>\n",
                     "</div>"
                  ],
                  "text/plain": [
                     "    LatD  LatM  LatS NS  LonD  LonM  LonS EW         City State\n",
                     "44    37    10    11  N   104    30    36  W     Trinidad    CO\n",
                     "33    49    16    12  N   123     7    12  W    Vancouver    BC\n",
                     "82    32     4    48  N    81     5    23  W     Savannah    GA\n",
                     "77    38    42    35  N    93    13    48  W      Sedalia    MO\n",
                     "58    40    59    24  N    75    11    24  W  Stroudsburg    PA"
                  ]
               },
               "metadata": {},
               "output_type": "display_data"
            }
         ],
         "source": [
            "data = pd.read_csv('test/cities.csv')\n",
            "\n",
            "# Randomized the arrays to assert no possible order is maintained\n",
            "data_rand = data.sample(frac=1)\n",
            "assert data_rand.to_dict('records') != data.to_dict('records')\n",
            "\n",
            "display(data.info())\n",
            "display(data.sample(5))"
         ]
      },
      {
         "cell_type": "code",
         "execution_count": 9,
         "metadata": {},
         "outputs": [],
         "source": [
            "def test_SORT_COLUMN():\n",
            "    from app.operations import SortColumn\n",
            "    assert SortColumn(column_name='LatD')(data)['LatD'].to_list() == sorted(data['LatD'].to_list())\n",
            "\n",
            "test_SORT_COLUMN()"
         ]
      },
      {
         "cell_type": "code",
         "execution_count": 10,
         "metadata": {},
         "outputs": [],
         "source": [
            "def test_REINDEX_COLUMN():\n",
            "    from app.operations import ReindexColumn\n",
            "    assert ReindexColumn(column_name='City')(data).index.name == 'City'\n",
            "\n",
            "test_REINDEX_COLUMN()"
         ]
      },
      {
         "cell_type": "code",
         "execution_count": 12,
         "metadata": {},
         "outputs": [],
         "source": [
            "def test_REMOVE_DUPLICATES_VALUES_COLUMN():\n",
            "    from app.operations import RemoveDuplicateValuesColumn\n",
            "    assert list(sorted(RemoveDuplicateValuesColumn(column_names=['State'])(data)['State'].to_list())) == list(sorted(set(data['State'].to_list())))\n",
            "\n",
            "test_REMOVE_DUPLICATES_VALUES_COLUMN()"
         ]
      },
      {
         "cell_type": "code",
         "execution_count": 4,
         "metadata": {},
         "outputs": [
            {
               "name": "stdout",
               "output_type": "stream",
               "text": [
                  "500\n"
               ]
            },
            {
               "ename": "JSONDecodeError",
               "evalue": "Expecting value: line 1 column 1 (char 0)",
               "output_type": "error",
               "traceback": [
                  "\u001b[0;31m---------------------------------------------------------------------------\u001b[0m",
                  "\u001b[0;31mJSONDecodeError\u001b[0m                           Traceback (most recent call last)",
                  "File \u001b[0;32m~/.application-data/miniconda3/lib/python3.12/site-packages/requests/models.py:971\u001b[0m, in \u001b[0;36mResponse.json\u001b[0;34m(self, **kwargs)\u001b[0m\n\u001b[1;32m    970\u001b[0m \u001b[38;5;28;01mtry\u001b[39;00m:\n\u001b[0;32m--> 971\u001b[0m     \u001b[38;5;28;01mreturn\u001b[39;00m complexjson\u001b[38;5;241m.\u001b[39mloads(\u001b[38;5;28mself\u001b[39m\u001b[38;5;241m.\u001b[39mtext, \u001b[38;5;241m*\u001b[39m\u001b[38;5;241m*\u001b[39mkwargs)\n\u001b[1;32m    972\u001b[0m \u001b[38;5;28;01mexcept\u001b[39;00m JSONDecodeError \u001b[38;5;28;01mas\u001b[39;00m e:\n\u001b[1;32m    973\u001b[0m     \u001b[38;5;66;03m# Catch JSON-related errors and raise as requests.JSONDecodeError\u001b[39;00m\n\u001b[1;32m    974\u001b[0m     \u001b[38;5;66;03m# This aliases json.JSONDecodeError and simplejson.JSONDecodeError\u001b[39;00m\n",
                  "File \u001b[0;32m~/.application-data/miniconda3/lib/python3.12/json/__init__.py:346\u001b[0m, in \u001b[0;36mloads\u001b[0;34m(s, cls, object_hook, parse_float, parse_int, parse_constant, object_pairs_hook, **kw)\u001b[0m\n\u001b[1;32m    343\u001b[0m \u001b[38;5;28;01mif\u001b[39;00m (\u001b[38;5;28mcls\u001b[39m \u001b[38;5;129;01mis\u001b[39;00m \u001b[38;5;28;01mNone\u001b[39;00m \u001b[38;5;129;01mand\u001b[39;00m object_hook \u001b[38;5;129;01mis\u001b[39;00m \u001b[38;5;28;01mNone\u001b[39;00m \u001b[38;5;129;01mand\u001b[39;00m\n\u001b[1;32m    344\u001b[0m         parse_int \u001b[38;5;129;01mis\u001b[39;00m \u001b[38;5;28;01mNone\u001b[39;00m \u001b[38;5;129;01mand\u001b[39;00m parse_float \u001b[38;5;129;01mis\u001b[39;00m \u001b[38;5;28;01mNone\u001b[39;00m \u001b[38;5;129;01mand\u001b[39;00m\n\u001b[1;32m    345\u001b[0m         parse_constant \u001b[38;5;129;01mis\u001b[39;00m \u001b[38;5;28;01mNone\u001b[39;00m \u001b[38;5;129;01mand\u001b[39;00m object_pairs_hook \u001b[38;5;129;01mis\u001b[39;00m \u001b[38;5;28;01mNone\u001b[39;00m \u001b[38;5;129;01mand\u001b[39;00m \u001b[38;5;129;01mnot\u001b[39;00m kw):\n\u001b[0;32m--> 346\u001b[0m     \u001b[38;5;28;01mreturn\u001b[39;00m _default_decoder\u001b[38;5;241m.\u001b[39mdecode(s)\n\u001b[1;32m    347\u001b[0m \u001b[38;5;28;01mif\u001b[39;00m \u001b[38;5;28mcls\u001b[39m \u001b[38;5;129;01mis\u001b[39;00m \u001b[38;5;28;01mNone\u001b[39;00m:\n",
                  "File \u001b[0;32m~/.application-data/miniconda3/lib/python3.12/json/decoder.py:337\u001b[0m, in \u001b[0;36mJSONDecoder.decode\u001b[0;34m(self, s, _w)\u001b[0m\n\u001b[1;32m    333\u001b[0m \u001b[38;5;250m\u001b[39m\u001b[38;5;124;03m\"\"\"Return the Python representation of ``s`` (a ``str`` instance\u001b[39;00m\n\u001b[1;32m    334\u001b[0m \u001b[38;5;124;03mcontaining a JSON document).\u001b[39;00m\n\u001b[1;32m    335\u001b[0m \n\u001b[1;32m    336\u001b[0m \u001b[38;5;124;03m\"\"\"\u001b[39;00m\n\u001b[0;32m--> 337\u001b[0m obj, end \u001b[38;5;241m=\u001b[39m \u001b[38;5;28mself\u001b[39m\u001b[38;5;241m.\u001b[39mraw_decode(s, idx\u001b[38;5;241m=\u001b[39m_w(s, \u001b[38;5;241m0\u001b[39m)\u001b[38;5;241m.\u001b[39mend())\n\u001b[1;32m    338\u001b[0m end \u001b[38;5;241m=\u001b[39m _w(s, end)\u001b[38;5;241m.\u001b[39mend()\n",
                  "File \u001b[0;32m~/.application-data/miniconda3/lib/python3.12/json/decoder.py:355\u001b[0m, in \u001b[0;36mJSONDecoder.raw_decode\u001b[0;34m(self, s, idx)\u001b[0m\n\u001b[1;32m    354\u001b[0m \u001b[38;5;28;01mexcept\u001b[39;00m \u001b[38;5;167;01mStopIteration\u001b[39;00m \u001b[38;5;28;01mas\u001b[39;00m err:\n\u001b[0;32m--> 355\u001b[0m     \u001b[38;5;28;01mraise\u001b[39;00m JSONDecodeError(\u001b[38;5;124m\"\u001b[39m\u001b[38;5;124mExpecting value\u001b[39m\u001b[38;5;124m\"\u001b[39m, s, err\u001b[38;5;241m.\u001b[39mvalue) \u001b[38;5;28;01mfrom\u001b[39;00m \u001b[38;5;28;01mNone\u001b[39;00m\n\u001b[1;32m    356\u001b[0m \u001b[38;5;28;01mreturn\u001b[39;00m obj, end\n",
                  "\u001b[0;31mJSONDecodeError\u001b[0m: Expecting value: line 1 column 1 (char 0)",
                  "\nDuring handling of the above exception, another exception occurred:\n",
                  "\u001b[0;31mJSONDecodeError\u001b[0m                           Traceback (most recent call last)",
                  "Cell \u001b[0;32mIn[4], line 31\u001b[0m\n\u001b[1;32m     29\u001b[0m \u001b[38;5;66;03m# Print the response\u001b[39;00m\n\u001b[1;32m     30\u001b[0m \u001b[38;5;28mprint\u001b[39m(response\u001b[38;5;241m.\u001b[39mstatus_code)\n\u001b[0;32m---> 31\u001b[0m \u001b[38;5;28mprint\u001b[39m(response\u001b[38;5;241m.\u001b[39mjson())\n",
                  "File \u001b[0;32m~/.application-data/miniconda3/lib/python3.12/site-packages/requests/models.py:975\u001b[0m, in \u001b[0;36mResponse.json\u001b[0;34m(self, **kwargs)\u001b[0m\n\u001b[1;32m    971\u001b[0m     \u001b[38;5;28;01mreturn\u001b[39;00m complexjson\u001b[38;5;241m.\u001b[39mloads(\u001b[38;5;28mself\u001b[39m\u001b[38;5;241m.\u001b[39mtext, \u001b[38;5;241m*\u001b[39m\u001b[38;5;241m*\u001b[39mkwargs)\n\u001b[1;32m    972\u001b[0m \u001b[38;5;28;01mexcept\u001b[39;00m JSONDecodeError \u001b[38;5;28;01mas\u001b[39;00m e:\n\u001b[1;32m    973\u001b[0m     \u001b[38;5;66;03m# Catch JSON-related errors and raise as requests.JSONDecodeError\u001b[39;00m\n\u001b[1;32m    974\u001b[0m     \u001b[38;5;66;03m# This aliases json.JSONDecodeError and simplejson.JSONDecodeError\u001b[39;00m\n\u001b[0;32m--> 975\u001b[0m     \u001b[38;5;28;01mraise\u001b[39;00m RequestsJSONDecodeError(e\u001b[38;5;241m.\u001b[39mmsg, e\u001b[38;5;241m.\u001b[39mdoc, e\u001b[38;5;241m.\u001b[39mpos)\n",
                  "\u001b[0;31mJSONDecodeError\u001b[0m: Expecting value: line 1 column 1 (char 0)"
               ]
            }
         ],
         "source": [
            "import requests as rq\n",
            "import json\n",
            "\n",
            "url = \"http://127.0.0.1:8000/file\"\n",
            "\n",
            "body = {\n",
            "    \"operations\": [\n",
            "        {\n",
            "            \"code\": \"RENAME_COLUMN\",\n",
            "            \"attributes\": {\n",
            "                \"column_names\": [\"State\", \"City\"],\n",
            "                \"new_names\": [\"STATE\", \"CITY\"]\n",
            "            }\n",
            "        },\n",
            "        {\n",
            "            \"code\": \"SORT_COLUMN\",\n",
            "            \"attributes\": {\n",
            "                \"column_name\": \"CITY\",\n",
            "                \"ascending\": True\n",
            "            }\n",
            "        }\n",
            "    ],\n",
            "}\n",
            "\n",
            "with open(\"cities.csv\", \"rb\") as file:\n",
            "    # Send the request\n",
            "    response = rq.post(url, json=body, files={\"file\": file})\n",
            "\n",
            "# Print the response\n",
            "print(response.status_code)\n",
            "print(response.json())"
         ]
      },
      {
         "cell_type": "code",
         "execution_count": null,
         "metadata": {},
         "outputs": [],
         "source": []
      }
   ],
   "metadata": {
      "kernelspec": {
         "display_name": "base",
         "language": "python",
         "name": "python3"
      },
      "language_info": {
         "codemirror_mode": {
            "name": "ipython",
            "version": 3
         },
         "file_extension": ".py",
         "mimetype": "text/x-python",
         "name": "python",
         "nbconvert_exporter": "python",
         "pygments_lexer": "ipython3",
         "version": "3.12.3"
      }
   },
   "nbformat": 4,
   "nbformat_minor": 2
}
